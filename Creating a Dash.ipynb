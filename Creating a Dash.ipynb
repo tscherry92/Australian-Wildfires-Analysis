{
 "cells": [
  {
   "cell_type": "markdown",
   "id": "ae54438d",
   "metadata": {},
   "source": [
    "# Creating a Dash for our Wildfire data:"
   ]
  },
  {
   "cell_type": "code",
   "execution_count": 2,
   "id": "a6cebc1b",
   "metadata": {},
   "outputs": [
    {
     "data": {
      "text/html": [
       "\n",
       "        <iframe\n",
       "            width=\"100%\"\n",
       "            height=\"650\"\n",
       "            src=\"http://127.0.0.1:8050/\"\n",
       "            frameborder=\"0\"\n",
       "            allowfullscreen\n",
       "            \n",
       "        ></iframe>\n",
       "        "
      ],
      "text/plain": [
       "<IPython.lib.display.IFrame at 0x184c94cf460>"
      ]
     },
     "metadata": {},
     "output_type": "display_data"
    }
   ],
   "source": [
    "import pandas as pd\n",
    "import dash\n",
    "from dash import html, dcc\n",
    "from dash.dependencies import Input, Output\n",
    "import plotly.graph_objects as go\n",
    "import plotly.express as px\n",
    "\n",
    "# Create app\n",
    "app = dash.Dash(__name__)\n",
    "\n",
    "# Read the wildfire data into pandas dataframe\n",
    "df = pd.read_csv('https://cf-courses-data.s3.us.cloud-object-storage.appdomain.cloud/IBMDeveloperSkillsNetwork-DV0101EN-SkillsNetwork/Data%20Files/Historical_Wildfires.csv')\n",
    "\n",
    "# Extract year and month from the date column\n",
    "df['Month'] = pd.to_datetime(df['Date']).dt.month_name() # used for the names of the months\n",
    "df['Year'] = pd.to_datetime(df['Date']).dt.year\n",
    "\n",
    "# Layout Section of Dash\n",
    "app.layout = html.Div(children=[\n",
    "    html.H1('Australia Wildfire Dashboard', style={'textAlign': 'center', 'color': '#503D36', 'font-size': 26}),\n",
    "    \n",
    "    html.Div([\n",
    "        html.Div([\n",
    "            html.H2('Select Region:', style={'margin-right': '2em'}),\n",
    "            dcc.RadioItems([\n",
    "                {\"label\":\"New South Wales\",\"value\": \"NSW\"},\n",
    "                {\"label\":\"Northern Territory\",\"value\": \"NT\"},\n",
    "                {\"label\":\"Queensland\",\"value\": \"QL\"},\n",
    "                {\"label\":\"South Australia\",\"value\": \"SA\"},\n",
    "                {\"label\":\"Tasmania\",\"value\": \"TA\"},\n",
    "                {\"label\":\"Victoria\",\"value\": \"VI\"},\n",
    "                {\"label\":\"Western Australia\",\"value\": \"WA\"}\n",
    "            ], value=\"NSW\", id='region', inline=True)\n",
    "        ]),\n",
    "        \n",
    "        html.Div([\n",
    "            html.H2('Select Year:', style={'margin-right': '2em'}),\n",
    "            dcc.Dropdown(options=[{\"label\": year, \"value\": year} for year in df.Year.unique()], value=2005, id='year')\n",
    "        ]),\n",
    "        \n",
    "        html.Div([\n",
    "            html.Div([], id='plot1'),\n",
    "            html.Div([], id='plot2')\n",
    "        ], style={'display': 'flex'}),\n",
    "    ])\n",
    "])\n",
    "\n",
    "@app.callback(\n",
    "    [Output('plot1', 'children'),\n",
    "     Output('plot2', 'children')],\n",
    "    [Input('region', 'value'),\n",
    "     Input('year', 'value')]\n",
    ")\n",
    "def reg_year_display(input_region, input_year):\n",
    "    region_data = df[df['Region'] == input_region]\n",
    "    y_r_data = region_data[region_data['Year']==input_year]\n",
    "    \n",
    "    est_data = y_r_data.groupby('Month')['Estimated_fire_area'].mean().reset_index()\n",
    "    fig1 = px.pie(est_data, values='Estimated_fire_area', names='Month', title=f\"{input_region} : Monthly Average Estimated Fire Area in year {input_year}\")\n",
    "    \n",
    "    veg_data = y_r_data.groupby('Month')['Count'].mean().reset_index()\n",
    "    fig2 = px.bar(veg_data, x='Month', y='Count', title=f\"{input_region} : Average Count of Pixels for Presumed Vegetation Fires in year {input_year}\")\n",
    "    \n",
    "    return [dcc.Graph(figure=fig1), dcc.Graph(figure=fig2)]\n",
    "\n",
    "if __name__ == '__main__':\n",
    "    app.run_server(mode=\"inline\")\n"
   ]
  }
 ],
 "metadata": {
  "kernelspec": {
   "display_name": "Python 3 (ipykernel)",
   "language": "python",
   "name": "python3"
  },
  "language_info": {
   "codemirror_mode": {
    "name": "ipython",
    "version": 3
   },
   "file_extension": ".py",
   "mimetype": "text/x-python",
   "name": "python",
   "nbconvert_exporter": "python",
   "pygments_lexer": "ipython3",
   "version": "3.10.9"
  }
 },
 "nbformat": 4,
 "nbformat_minor": 5
}
